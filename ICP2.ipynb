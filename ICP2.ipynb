{
  "nbformat": 4,
  "nbformat_minor": 0,
  "metadata": {
    "colab": {
      "provenance": []
    },
    "kernelspec": {
      "name": "python3",
      "display_name": "Python 3"
    },
    "language_info": {
      "name": "python"
    }
  },
  "cells": [
    {
      "cell_type": "code",
      "execution_count": 7,
      "metadata": {
        "colab": {
          "base_uri": "https://localhost:8080/"
        },
        "id": "982fWD9BLVe5",
        "outputId": "e7d1d3d0-ae55-424c-9e72-d2315ba92e31"
      },
      "outputs": [
        {
          "output_type": "stream",
          "name": "stdout",
          "text": [
            "Name: Sri, Family: Durga, Salary: 40000, Department: Dept\n",
            "Name: Sai, Family: Krishna, Salary: 70000, Department: IT\n",
            "Name: Subash, Family: Bhagwan, Salary: 80000, Department: Software, Benefits: Insurance\n",
            "Name: Rohith, Family: Nirva, Salary: 160000, Department: Hardware, Benefits: Manfracturing\n",
            "Average Salary: $87500.00\n",
            "Total number of Employees: 4\n"
          ]
        }
      ],
      "source": [
        "class Employee:\n",
        "\n",
        "    employee_count = 0\n",
        "\n",
        "    def __init__(self, name, family, salary, department):\n",
        "        self.name = name\n",
        "        self.family = family\n",
        "        self.salary = salary\n",
        "        self.department = department\n",
        "        Employee.employee_count += 1\n",
        "\n",
        "    @classmethod\n",
        "    def average_salary(cls, employees):\n",
        "        total_salary = sum(employee.salary for employee in employees)\n",
        "        return total_salary / cls.employee_count if cls.employee_count > 0 else 0\n",
        "\n",
        "    @staticmethod\n",
        "    def employee_info(employee):\n",
        "        return f\"Name: {employee.name}, Family: {employee.family}, Salary: {employee.salary}, Department: {employee.department}\"\n",
        "\n",
        "\n",
        "class FulltimeEmployee(Employee):\n",
        "    def __init__(self, name, family, salary, department, benefits):\n",
        "        super().__init__(name, family, salary, department)\n",
        "        self.benefits = benefits\n",
        "\n",
        "    def fulltime_employee_info(self):\n",
        "        return f\"{super().employee_info(self)}, Benefits: {self.benefits}\"\n",
        "\n",
        "\n",
        "emp1 = Employee(\"Sri\", \"Durga\", 40000, \"Dept\")\n",
        "emp2 = Employee(\"Sai\", \"Krishna\", 70000, \"IT\")\n",
        "emp3 = FulltimeEmployee(\"Subash\", \"Bhagwan\", 80000, \"Software\", \"Insurance\")\n",
        "emp4 = FulltimeEmployee(\"Rohith\", \"Nirva\", 160000, \"Hardware\", \"Manfracturing\")\n",
        "\n",
        "employees = [emp1, emp2, emp3, emp4]\n",
        "\n",
        "\n",
        "print(Employee.employee_info(emp1))\n",
        "print(Employee.employee_info(emp2))\n",
        "print(emp3.fulltime_employee_info())\n",
        "print(emp4.fulltime_employee_info())\n",
        "\n",
        "\n",
        "average_salary = Employee.average_salary(employees)\n",
        "print(f\"Average Salary: ${average_salary:.2f}\")\n",
        "\n",
        "\n",
        "print(f\"Total number of Employees: {Employee.employee_count}\")\n"
      ]
    },
    {
      "cell_type": "code",
      "source": [
        "import numpy as np\n",
        "\n",
        "vector = np.random.uniform(1, 20, size=20)\n",
        "\n",
        "array = vector.reshape(4, 5)\n",
        "\n",
        "mask = array == np.max(array, axis=1, keepdims=True)\n",
        "\n",
        "array[mask] = 0\n",
        "\n",
        "print(\"Final Array is\")\n",
        "print(array)\n"
      ],
      "metadata": {
        "colab": {
          "base_uri": "https://localhost:8080/"
        },
        "id": "VAKnkw9aO2gG",
        "outputId": "4cc13d38-d381-43e7-b194-06da09cb9e16"
      },
      "execution_count": 9,
      "outputs": [
        {
          "output_type": "stream",
          "name": "stdout",
          "text": [
            "Final Array is\n",
            "[[ 0.         11.3104193   8.26817506  5.85037952  2.88175464]\n",
            " [16.58929998  9.64469325  0.         11.81613707  8.65457973]\n",
            " [17.56846574 13.2712494   6.60524534  0.          6.25396992]\n",
            " [ 1.93802762  3.0352358   6.21417617 11.96330052  0.        ]]\n"
          ]
        }
      ]
    }
  ]
}